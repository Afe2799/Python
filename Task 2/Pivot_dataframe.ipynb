{
  "metadata": {
    "language_info": {
      "codemirror_mode": {
        "name": "python",
        "version": 3
      },
      "file_extension": ".py",
      "mimetype": "text/x-python",
      "name": "python",
      "nbconvert_exporter": "python",
      "pygments_lexer": "ipython3",
      "version": "3.8"
    },
    "kernelspec": {
      "name": "python",
      "display_name": "Python (Pyodide)",
      "language": "python"
    }
  },
  "nbformat_minor": 4,
  "nbformat": 4,
  "cells": [
    {
      "cell_type": "code",
      "source": "import pandas as pd\narray = [2, 4, 6, 8, 10, 12]\nseries_obj = pd.Series(array)\narr = series_obj.values\narr",
      "metadata": {
        "trusted": true
      },
      "execution_count": 1,
      "outputs": [
        {
          "execution_count": 1,
          "output_type": "execute_result",
          "data": {
            "text/plain": "array([ 2,  4,  6,  8, 10, 12], dtype=int64)"
          },
          "metadata": {}
        }
      ]
    },
    {
      "cell_type": "code",
      "source": "reshaped_arr = arr.reshape((3, 2))\n# show\nreshaped_arr",
      "metadata": {
        "trusted": true
      },
      "execution_count": 2,
      "outputs": [
        {
          "execution_count": 2,
          "output_type": "execute_result",
          "data": {
            "text/plain": "array([[ 2,  4],\n       [ 6,  8],\n       [10, 12]], dtype=int64)"
          },
          "metadata": {}
        }
      ]
    },
    {
      "cell_type": "code",
      "source": "import pandas as pd\narray = [\"Amrit\",\"Shrinivas\",\n         \"Surya\",\"Dikesh\",\n        \"Ram\",\"Pooja\"]\nseries_obj = pd.Series(array)\nprint(\"Given Series:\\n\", series_obj)\narr = series_obj.values\narr",
      "metadata": {
        "trusted": true
      },
      "execution_count": 3,
      "outputs": [
        {
          "name": "stdout",
          "text": "Given Series:\n 0        Amrit\n1    Shrinivas\n2        Surya\n3       Dikesh\n4          Ram\n5        Pooja\ndtype: object\n",
          "output_type": "stream"
        },
        {
          "execution_count": 3,
          "output_type": "execute_result",
          "data": {
            "text/plain": "array(['Amrit', 'Shrinivas', 'Surya', 'Dikesh', 'Ram', 'Pooja'],\n      dtype=object)"
          },
          "metadata": {}
        }
      ]
    },
    {
      "cell_type": "code",
      "source": "reshaped_arr = arr.reshape((2,3))\nprint(\"After Reshaping:\\n\", reshaped_arr)",
      "metadata": {
        "trusted": true
      },
      "execution_count": 4,
      "outputs": [
        {
          "name": "stdout",
          "text": "After Reshaping:\n [['Amrit' 'Shrinivas' 'Surya']\n ['Dikesh' 'Ram' 'Pooja']]\n",
          "output_type": "stream"
        }
      ]
    },
    {
      "cell_type": "code",
      "source": "import pandas as pd \ndf = pd.DataFrame({'A':['Joni','Sukumar','Mohan'],\n                   'B': ['Master','Graduate','Graduate'],\n                   'C': [23,26,19]})\ndf",
      "metadata": {
        "trusted": true
      },
      "execution_count": 5,
      "outputs": [
        {
          "execution_count": 5,
          "output_type": "execute_result",
          "data": {
            "text/plain": "         A         B   C\n0     Joni    Master  23\n1  Sukumar  Graduate  26\n2    Mohan  Graduate  19",
            "text/html": "<div>\n<style scoped>\n    .dataframe tbody tr th:only-of-type {\n        vertical-align: middle;\n    }\n\n    .dataframe tbody tr th {\n        vertical-align: top;\n    }\n\n    .dataframe thead th {\n        text-align: right;\n    }\n</style>\n<table border=\"1\" class=\"dataframe\">\n  <thead>\n    <tr style=\"text-align: right;\">\n      <th></th>\n      <th>A</th>\n      <th>B</th>\n      <th>C</th>\n    </tr>\n  </thead>\n  <tbody>\n    <tr>\n      <th>0</th>\n      <td>Joni</td>\n      <td>Master</td>\n      <td>23</td>\n    </tr>\n    <tr>\n      <th>1</th>\n      <td>Sukumar</td>\n      <td>Graduate</td>\n      <td>26</td>\n    </tr>\n    <tr>\n      <th>2</th>\n      <td>Mohan</td>\n      <td>Graduate</td>\n      <td>19</td>\n    </tr>\n  </tbody>\n</table>\n</div>"
          },
          "metadata": {}
        }
      ]
    },
    {
      "cell_type": "code",
      "source": "df.pivot(index = 'A', columns = 'B', values = ['C', 'A'])",
      "metadata": {
        "trusted": true
      },
      "execution_count": 6,
      "outputs": [
        {
          "execution_count": 6,
          "output_type": "execute_result",
          "data": {
            "text/plain": "               C               A       \nB       Graduate Master Graduate Master\nA                                      \nJoni         NaN     23      NaN   Joni\nMohan         19    NaN    Mohan    NaN\nSukumar       26    NaN  Sukumar    NaN",
            "text/html": "<div>\n<style scoped>\n    .dataframe tbody tr th:only-of-type {\n        vertical-align: middle;\n    }\n\n    .dataframe tbody tr th {\n        vertical-align: top;\n    }\n\n    .dataframe thead tr th {\n        text-align: left;\n    }\n\n    .dataframe thead tr:last-of-type th {\n        text-align: right;\n    }\n</style>\n<table border=\"1\" class=\"dataframe\">\n  <thead>\n    <tr>\n      <th></th>\n      <th colspan=\"2\" halign=\"left\">C</th>\n      <th colspan=\"2\" halign=\"left\">A</th>\n    </tr>\n    <tr>\n      <th>B</th>\n      <th>Graduate</th>\n      <th>Master</th>\n      <th>Graduate</th>\n      <th>Master</th>\n    </tr>\n    <tr>\n      <th>A</th>\n      <th></th>\n      <th></th>\n      <th></th>\n      <th></th>\n    </tr>\n  </thead>\n  <tbody>\n    <tr>\n      <th>Joni</th>\n      <td>NaN</td>\n      <td>23</td>\n      <td>NaN</td>\n      <td>Joni</td>\n    </tr>\n    <tr>\n      <th>Mohan</th>\n      <td>19</td>\n      <td>NaN</td>\n      <td>Mohan</td>\n      <td>NaN</td>\n    </tr>\n    <tr>\n      <th>Sukumar</th>\n      <td>26</td>\n      <td>NaN</td>\n      <td>Sukumar</td>\n      <td>NaN</td>\n    </tr>\n  </tbody>\n</table>\n</div>"
          },
          "metadata": {}
        }
      ]
    },
    {
      "cell_type": "code",
      "source": "import pandas as pd \ndf = pd.DataFrame({'Name':['Sunny', 'Monika', 'Deni', 'Jolly', 'Deepak'],\n                           'Gender':['Female','Female','Female','Male','Male'],\n                           'Age':[27,23,35,43,21]})\nprint(\"Dataset\")\nprint(df)\nprint(\"-\"*33)\n                    \ndef age_bucket(age):\n    if age <= 18:\n        return \"<18\"\n    else:\n        return \">18\"\ndf['Age Group'] = df['Age'].apply(age_bucket)\n                           \ngender = pd.DataFrame(df.Gender.value_counts(normalize = True)*100).reset_index()\ngender.columns = ['Gender', '%Gender']\ndf=pd.merge(left=df, right=gender, how='inner', on=['Gender'])\ntable = pd.pivot_table(df, index = ['Gender', '%Gender', 'Age Group'],\n                      values = ['Name'], aggfunc = {'Name': 'count',})\nprint(\"Table\")\nprint(table)",
      "metadata": {
        "trusted": true
      },
      "execution_count": 7,
      "outputs": [
        {
          "name": "stdout",
          "text": "Dataset\n     Name  Gender  Age\n0   Sunny  Female   27\n1  Monika  Female   23\n2    Deni  Female   35\n3   Jolly    Male   43\n4  Deepak    Male   21\n---------------------------------\nTable\n                          Name\nGender %Gender Age Group      \nFemale 60.0    >18           3\nMale   40.0    >18           2\n",
          "output_type": "stream"
        }
      ]
    },
    {
      "cell_type": "code",
      "source": "",
      "metadata": {},
      "execution_count": null,
      "outputs": []
    }
  ]
}