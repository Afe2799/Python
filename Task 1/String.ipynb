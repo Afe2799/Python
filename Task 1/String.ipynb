{
  "metadata": {
    "language_info": {
      "codemirror_mode": {
        "name": "python",
        "version": 3
      },
      "file_extension": ".py",
      "mimetype": "text/x-python",
      "name": "python",
      "nbconvert_exporter": "python",
      "pygments_lexer": "ipython3",
      "version": "3.8"
    },
    "kernelspec": {
      "name": "python",
      "display_name": "Python (Pyodide)",
      "language": "python"
    }
  },
  "nbformat_minor": 4,
  "nbformat": 4,
  "cells": [
    {
      "cell_type": "code",
      "source": "x = \"hello\"\ny = \"world\"\nprint (x,y)",
      "metadata": {
        "trusted": true
      },
      "execution_count": 1,
      "outputs": [
        {
          "name": "stdout",
          "text": "hello world\n",
          "output_type": "stream"
        }
      ]
    },
    {
      "cell_type": "code",
      "source": "x = \"\"\"This is the multi line string\nwtrite in three line.\"\"\"\ny = \"multi line string can use in three line\"\nprint (x,y)",
      "metadata": {
        "trusted": true
      },
      "execution_count": 2,
      "outputs": [
        {
          "name": "stdout",
          "text": "This is the multi line string\nwtrite in three line. multi line string can use in three line\n",
          "output_type": "stream"
        }
      ]
    },
    {
      "cell_type": "code",
      "source": "a = \"Love\"\nb = \"Joy\"\nc = \"Peace\"\nprint(a,b,c)",
      "metadata": {
        "trusted": true
      },
      "execution_count": 3,
      "outputs": [
        {
          "name": "stdout",
          "text": "Love Joy Peace\n",
          "output_type": "stream"
        }
      ]
    },
    {
      "cell_type": "code",
      "source": "rollnumber = 22352011\nname = \"Apfhezo\"\nage = 23\ncourse = \"MCA\"\nall = rollnumber,name,age,course\nprint(all)",
      "metadata": {
        "trusted": true
      },
      "execution_count": 4,
      "outputs": [
        {
          "name": "stdout",
          "text": "(22352011, 'Apfhezo', 23, 'MCA')\n",
          "output_type": "stream"
        }
      ]
    },
    {
      "cell_type": "code",
      "source": "msg = \"Just do it\"\nprint(msg)",
      "metadata": {
        "trusted": true
      },
      "execution_count": 5,
      "outputs": [
        {
          "name": "stdout",
          "text": "Just do it\n",
          "output_type": "stream"
        }
      ]
    },
    {
      "cell_type": "code",
      "source": "p = \"\"\"Hey this is me learning Python on data analytics \"\"\"\nr = \"I hope I do well.\"\nprint(p,r)",
      "metadata": {
        "trusted": true
      },
      "execution_count": 6,
      "outputs": [
        {
          "name": "stdout",
          "text": "Hey this is me learning Python on data analytics  I hope I do well.\n",
          "output_type": "stream"
        }
      ]
    },
    {
      "cell_type": "code",
      "source": "",
      "metadata": {},
      "execution_count": null,
      "outputs": []
    }
  ]
}